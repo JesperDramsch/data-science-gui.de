{
 "cells": [
  {
   "cell_type": "markdown",
   "metadata": {},
   "source": [
    "# Machine learning fairness\n",
    "\n"
   ]
  },
  {
   "cell_type": "markdown",
   "metadata": {},
   "source": [
    "## How To"
   ]
  },
  {
   "cell_type": "code",
   "execution_count": 1,
   "metadata": {},
   "outputs": [
    {
     "data": {
      "text/html": [
       "<div>\n",
       "<style scoped>\n",
       "    .dataframe tbody tr th:only-of-type {\n",
       "        vertical-align: middle;\n",
       "    }\n",
       "\n",
       "    .dataframe tbody tr th {\n",
       "        vertical-align: top;\n",
       "    }\n",
       "\n",
       "    .dataframe thead th {\n",
       "        text-align: right;\n",
       "    }\n",
       "</style>\n",
       "<table border=\"1\" class=\"dataframe\">\n",
       "  <thead>\n",
       "    <tr style=\"text-align: right;\">\n",
       "      <th></th>\n",
       "      <th>longitude</th>\n",
       "      <th>latitude</th>\n",
       "      <th>housing_median_age</th>\n",
       "      <th>total_rooms</th>\n",
       "      <th>total_bedrooms</th>\n",
       "      <th>population</th>\n",
       "      <th>households</th>\n",
       "      <th>median_income</th>\n",
       "      <th>median_house_value</th>\n",
       "      <th>ocean_proximity</th>\n",
       "    </tr>\n",
       "  </thead>\n",
       "  <tbody>\n",
       "    <tr>\n",
       "      <th>0</th>\n",
       "      <td>-122.23</td>\n",
       "      <td>37.88</td>\n",
       "      <td>41.0</td>\n",
       "      <td>880.0</td>\n",
       "      <td>129.0</td>\n",
       "      <td>322.0</td>\n",
       "      <td>126.0</td>\n",
       "      <td>8.3252</td>\n",
       "      <td>452600.0</td>\n",
       "      <td>NEAR BAY</td>\n",
       "    </tr>\n",
       "    <tr>\n",
       "      <th>1</th>\n",
       "      <td>-122.22</td>\n",
       "      <td>37.86</td>\n",
       "      <td>21.0</td>\n",
       "      <td>7099.0</td>\n",
       "      <td>1106.0</td>\n",
       "      <td>2401.0</td>\n",
       "      <td>1138.0</td>\n",
       "      <td>8.3014</td>\n",
       "      <td>358500.0</td>\n",
       "      <td>NEAR BAY</td>\n",
       "    </tr>\n",
       "    <tr>\n",
       "      <th>2</th>\n",
       "      <td>-122.24</td>\n",
       "      <td>37.85</td>\n",
       "      <td>52.0</td>\n",
       "      <td>1467.0</td>\n",
       "      <td>190.0</td>\n",
       "      <td>496.0</td>\n",
       "      <td>177.0</td>\n",
       "      <td>7.2574</td>\n",
       "      <td>352100.0</td>\n",
       "      <td>NEAR BAY</td>\n",
       "    </tr>\n",
       "    <tr>\n",
       "      <th>3</th>\n",
       "      <td>-122.25</td>\n",
       "      <td>37.85</td>\n",
       "      <td>52.0</td>\n",
       "      <td>1274.0</td>\n",
       "      <td>235.0</td>\n",
       "      <td>558.0</td>\n",
       "      <td>219.0</td>\n",
       "      <td>5.6431</td>\n",
       "      <td>341300.0</td>\n",
       "      <td>NEAR BAY</td>\n",
       "    </tr>\n",
       "    <tr>\n",
       "      <th>4</th>\n",
       "      <td>-122.25</td>\n",
       "      <td>37.85</td>\n",
       "      <td>52.0</td>\n",
       "      <td>1627.0</td>\n",
       "      <td>280.0</td>\n",
       "      <td>565.0</td>\n",
       "      <td>259.0</td>\n",
       "      <td>3.8462</td>\n",
       "      <td>342200.0</td>\n",
       "      <td>NEAR BAY</td>\n",
       "    </tr>\n",
       "  </tbody>\n",
       "</table>\n",
       "</div>"
      ],
      "text/plain": [
       "   longitude  latitude  housing_median_age  total_rooms  total_bedrooms  \\\n",
       "0    -122.23     37.88                41.0        880.0           129.0   \n",
       "1    -122.22     37.86                21.0       7099.0          1106.0   \n",
       "2    -122.24     37.85                52.0       1467.0           190.0   \n",
       "3    -122.25     37.85                52.0       1274.0           235.0   \n",
       "4    -122.25     37.85                52.0       1627.0           280.0   \n",
       "\n",
       "   population  households  median_income  median_house_value ocean_proximity  \n",
       "0       322.0       126.0         8.3252            452600.0        NEAR BAY  \n",
       "1      2401.0      1138.0         8.3014            358500.0        NEAR BAY  \n",
       "2       496.0       177.0         7.2574            352100.0        NEAR BAY  \n",
       "3       558.0       219.0         5.6431            341300.0        NEAR BAY  \n",
       "4       565.0       259.0         3.8462            342200.0        NEAR BAY  "
      ]
     },
     "execution_count": 1,
     "metadata": {},
     "output_type": "execute_result"
    }
   ],
   "source": [
    "from sklearn.model_selection import train_test_split\n",
    "import pandas as pd\n",
    "\n",
    "df = pd.read_csv(\"data/housing.csv\").dropna()\n",
    "df.head()"
   ]
  },
  {
   "cell_type": "code",
   "execution_count": 2,
   "metadata": {},
   "outputs": [],
   "source": [
    "x_train, x_, y_train, y_ = train_test_split(df.drop([\"longitude\",\"latitude\", \"ocean_proximity\", \"median_house_value\"], axis=1), \n",
    "                                                    df.median_house_value, test_size=.5, stratify=df.ocean_proximity)\n",
    "\n",
    "x_val, x_test, y_val, y_test = train_test_split(x_, y_, test_size=.5)"
   ]
  },
  {
   "cell_type": "code",
   "execution_count": 3,
   "metadata": {},
   "outputs": [],
   "source": [
    "from sklearn.ensemble import RandomForestRegressor\n",
    "model = RandomForestRegressor().fit(x_train, y_train)"
   ]
  },
  {
   "cell_type": "code",
   "execution_count": 5,
   "metadata": {
    "scrolled": true
   },
   "outputs": [
    {
     "data": {
      "text/plain": [
       "0.6506734105428703"
      ]
     },
     "execution_count": 5,
     "metadata": {},
     "output_type": "execute_result"
    }
   ],
   "source": [
    "model.score(x_val, y_val)"
   ]
  },
  {
   "cell_type": "code",
   "execution_count": 14,
   "metadata": {},
   "outputs": [],
   "source": [
    "from sklearn.model_selection import cross_val_score"
   ]
  },
  {
   "cell_type": "code",
   "execution_count": 22,
   "metadata": {},
   "outputs": [
    {
     "name": "stdout",
     "output_type": "stream",
     "text": [
      "NEAR BAY\n",
      "0.5570395463447235\n",
      "[0.57219328 0.44855003 0.51919771 0.59091628 0.40675492]\n",
      "0.5075224447546072  +-  0.07057619932623685 \n",
      "\n",
      "0.6527441863229038\n",
      "[0.59025626 0.55653415 0.51536576 0.75825637 0.54617368]\n",
      "0.5933172427859382  +-  0.08586760896540928 \n",
      "\n",
      "<1H OCEAN\n",
      "0.606956325073295\n",
      "[0.55365731 0.60038419 0.67269169 0.58778808 0.56744912]\n",
      "0.5963940781657364  +-  0.041413889374504936 \n",
      "\n",
      "0.594563542001741\n",
      "[0.64151567 0.61286145 0.59144074 0.59146249 0.55420504]\n",
      "0.5982970793239814  +-  0.028697723474781403 \n",
      "\n",
      "INLAND\n",
      "0.21181271480249797\n",
      "[0.47548422 0.4244011  0.55019621 0.53988905 0.34708655]\n",
      "0.46741142616273407  +-  0.07549763125236966 \n",
      "\n",
      "0.27797439469300067\n",
      "[0.35291199 0.51658834 0.52368751 0.44794069 0.60352741]\n",
      "0.4889311877993688  +-  0.08400792257132773 \n",
      "\n",
      "NEAR OCEAN\n",
      "0.583707399893368\n",
      "[0.61625469 0.55586553 0.57977258 0.49662929 0.66552688]\n",
      "0.5828097965180612  +-  0.05678551614666053 \n",
      "\n",
      "0.5864176662618662\n",
      "[0.46453127 0.62917267 0.51358205 0.59059131 0.66384324]\n",
      "0.5723441094613778  +-  0.0734998296268345 \n",
      "\n",
      "ISLAND\n",
      "Error in Validation\n",
      "-236.01724654278584\n",
      "Error in Test\n"
     ]
    }
   ],
   "source": [
    "for cls in df.ocean_proximity.unique():\n",
    "    print(cls)\n",
    "    try:\n",
    "        idx = df[df.ocean_proximity.isin([cls])].index\n",
    "\n",
    "        idx_val = x_val.index.intersection(idx)\n",
    "        print(model.score(x_val.loc[idx_val, :], y_val.loc[idx_val]))\n",
    "\n",
    "        val = cross_val_score(model, x_val.loc[idx_val, :], y_val.loc[idx_val])\n",
    "        print(val)\n",
    "        print(val.mean(), \" +- \", val.std(), \"\\n\")\n",
    "    except:\n",
    "        print(\"Error in Validation\")\n",
    "    try:\n",
    "        idx = df[df.ocean_proximity.isin([cls])].index\n",
    "\n",
    "        idx_test = x_test.index.intersection(idx)\n",
    "        print(model.score(x_test.loc[idx_test, :], y_test.loc[idx_test]))\n",
    "        \n",
    "        tst = cross_val_score(model,x_test.loc[idx_test, :], y_test.loc[idx_test])\n",
    "        print(tst)\n",
    "        print(tst.mean(), \" +- \", tst.std(), \"\\n\")\n",
    "    except:\n",
    "        print(\"Error in Test\")"
   ]
  },
  {
   "cell_type": "markdown",
   "metadata": {},
   "source": [
    "## Exercise\n",
    "Modify the code to generate dummy models for each class."
   ]
  },
  {
   "cell_type": "code",
   "execution_count": null,
   "metadata": {},
   "outputs": [],
   "source": []
  },
  {
   "cell_type": "markdown",
   "metadata": {},
   "source": [
    "## Additional Resources"
   ]
  },
  {
   "cell_type": "markdown",
   "metadata": {},
   "source": [
    "- [ML Fairness](https://en.wikipedia.org/wiki/Fairness_(machine_learning))\n",
    "- [ML Fairness Gym](https://ai.googleblog.com/2020/02/ml-fairness-gym-tool-for-exploring-long.html)\n",
    "- [F A T M L](https://www.fatml.org/)"
   ]
  }
 ],
 "metadata": {
  "kernelspec": {
   "display_name": "Python 3",
   "language": "python",
   "name": "python3"
  },
  "language_info": {
   "codemirror_mode": {
    "name": "ipython",
    "version": 3
   },
   "file_extension": ".py",
   "mimetype": "text/x-python",
   "name": "python",
   "nbconvert_exporter": "python",
   "pygments_lexer": "ipython3",
   "version": "3.8.3"
  }
 },
 "nbformat": 4,
 "nbformat_minor": 4
}
